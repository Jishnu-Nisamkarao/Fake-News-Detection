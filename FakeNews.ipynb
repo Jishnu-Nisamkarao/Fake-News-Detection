{
 "cells": [
  {
   "cell_type": "code",
   "execution_count": 1,
   "id": "a057f2b5-e2b3-443f-8ae3-e5057ac528f8",
   "metadata": {},
   "outputs": [],
   "source": [
    "import pandas as pd\n",
    "import numpy as np\n",
    "import matplotlib.pyplot as plt\n",
    "import seaborn as sns\n",
    "import re\n",
    "import string"
   ]
  },
  {
   "cell_type": "code",
   "execution_count": 2,
   "id": "2dd451ca-f2d1-4cdd-b98c-d40b41208550",
   "metadata": {},
   "outputs": [],
   "source": [
    "data1_fake = pd.read_csv(\"D:/Datasets/gossipcop_fake.csv\")\n",
    "data1_real = pd.read_csv(\"D:/Datasets/gossipcop_real.csv\")\n",
    "data2_fake = pd.read_csv(\"D:/Datasets/politifact_fake.csv\")\n",
    "data2_real = pd.read_csv(\"D:/Datasets/politifact_real.csv\")"
   ]
  },
  {
   "cell_type": "code",
   "execution_count": 3,
   "id": "2a5c1347-f093-4f0f-a9ab-5d1ec26d2a1d",
   "metadata": {},
   "outputs": [
    {
     "data": {
      "text/html": [
       "<div>\n",
       "<style scoped>\n",
       "    .dataframe tbody tr th:only-of-type {\n",
       "        vertical-align: middle;\n",
       "    }\n",
       "\n",
       "    .dataframe tbody tr th {\n",
       "        vertical-align: top;\n",
       "    }\n",
       "\n",
       "    .dataframe thead th {\n",
       "        text-align: right;\n",
       "    }\n",
       "</style>\n",
       "<table border=\"1\" class=\"dataframe\">\n",
       "  <thead>\n",
       "    <tr style=\"text-align: right;\">\n",
       "      <th></th>\n",
       "      <th>id</th>\n",
       "      <th>news_url</th>\n",
       "      <th>title</th>\n",
       "      <th>tweet_ids</th>\n",
       "    </tr>\n",
       "  </thead>\n",
       "  <tbody>\n",
       "    <tr>\n",
       "      <th>0</th>\n",
       "      <td>gossipcop-2493749932</td>\n",
       "      <td>www.dailymail.co.uk/tvshowbiz/article-5874213/...</td>\n",
       "      <td>Did Miley Cyrus and Liam Hemsworth secretly ge...</td>\n",
       "      <td>284329075902926848\\t284332744559968256\\t284335...</td>\n",
       "    </tr>\n",
       "    <tr>\n",
       "      <th>1</th>\n",
       "      <td>gossipcop-4580247171</td>\n",
       "      <td>hollywoodlife.com/2018/05/05/paris-jackson-car...</td>\n",
       "      <td>Paris Jackson &amp; Cara Delevingne Enjoy Night Ou...</td>\n",
       "      <td>992895508267130880\\t992897935418503169\\t992899...</td>\n",
       "    </tr>\n",
       "    <tr>\n",
       "      <th>2</th>\n",
       "      <td>gossipcop-941805037</td>\n",
       "      <td>variety.com/2017/biz/news/tax-march-donald-tru...</td>\n",
       "      <td>Celebrities Join Tax March in Protest of Donal...</td>\n",
       "      <td>853359353532829696\\t853359576543920128\\t853359...</td>\n",
       "    </tr>\n",
       "  </tbody>\n",
       "</table>\n",
       "</div>"
      ],
      "text/plain": [
       "                     id                                           news_url  \\\n",
       "0  gossipcop-2493749932  www.dailymail.co.uk/tvshowbiz/article-5874213/...   \n",
       "1  gossipcop-4580247171  hollywoodlife.com/2018/05/05/paris-jackson-car...   \n",
       "2   gossipcop-941805037  variety.com/2017/biz/news/tax-march-donald-tru...   \n",
       "\n",
       "                                               title  \\\n",
       "0  Did Miley Cyrus and Liam Hemsworth secretly ge...   \n",
       "1  Paris Jackson & Cara Delevingne Enjoy Night Ou...   \n",
       "2  Celebrities Join Tax March in Protest of Donal...   \n",
       "\n",
       "                                           tweet_ids  \n",
       "0  284329075902926848\\t284332744559968256\\t284335...  \n",
       "1  992895508267130880\\t992897935418503169\\t992899...  \n",
       "2  853359353532829696\\t853359576543920128\\t853359...  "
      ]
     },
     "execution_count": 3,
     "metadata": {},
     "output_type": "execute_result"
    }
   ],
   "source": [
    "data1_fake.head(3)"
   ]
  },
  {
   "cell_type": "code",
   "execution_count": 4,
   "id": "860640d4-473f-42c7-8f78-6498537f7910",
   "metadata": {},
   "outputs": [
    {
     "data": {
      "text/plain": [
       "Index(['id', 'news_url', 'title', 'tweet_ids'], dtype='object')"
      ]
     },
     "execution_count": 4,
     "metadata": {},
     "output_type": "execute_result"
    }
   ],
   "source": [
    "data1_fake.columns"
   ]
  },
  {
   "cell_type": "code",
   "execution_count": 5,
   "id": "7b63142d-58d4-43aa-8111-40af8b40f7c2",
   "metadata": {},
   "outputs": [
    {
     "data": {
      "text/html": [
       "<div>\n",
       "<style scoped>\n",
       "    .dataframe tbody tr th:only-of-type {\n",
       "        vertical-align: middle;\n",
       "    }\n",
       "\n",
       "    .dataframe tbody tr th {\n",
       "        vertical-align: top;\n",
       "    }\n",
       "\n",
       "    .dataframe thead th {\n",
       "        text-align: right;\n",
       "    }\n",
       "</style>\n",
       "<table border=\"1\" class=\"dataframe\">\n",
       "  <thead>\n",
       "    <tr style=\"text-align: right;\">\n",
       "      <th></th>\n",
       "      <th>id</th>\n",
       "      <th>news_url</th>\n",
       "      <th>title</th>\n",
       "      <th>tweet_ids</th>\n",
       "    </tr>\n",
       "  </thead>\n",
       "  <tbody>\n",
       "    <tr>\n",
       "      <th>count</th>\n",
       "      <td>5323</td>\n",
       "      <td>5067</td>\n",
       "      <td>5323</td>\n",
       "      <td>5135</td>\n",
       "    </tr>\n",
       "    <tr>\n",
       "      <th>unique</th>\n",
       "      <td>5323</td>\n",
       "      <td>4681</td>\n",
       "      <td>4896</td>\n",
       "      <td>5047</td>\n",
       "    </tr>\n",
       "    <tr>\n",
       "      <th>top</th>\n",
       "      <td>gossipcop-2493749932</td>\n",
       "      <td>www.newidea.com.au/jennifer-aniston-and-brad-p...</td>\n",
       "      <td>Connecting People Through News</td>\n",
       "      <td>950201158445948928\\t978452415514136576\\t101565...</td>\n",
       "    </tr>\n",
       "    <tr>\n",
       "      <th>freq</th>\n",
       "      <td>1</td>\n",
       "      <td>8</td>\n",
       "      <td>20</td>\n",
       "      <td>6</td>\n",
       "    </tr>\n",
       "  </tbody>\n",
       "</table>\n",
       "</div>"
      ],
      "text/plain": [
       "                          id  \\\n",
       "count                   5323   \n",
       "unique                  5323   \n",
       "top     gossipcop-2493749932   \n",
       "freq                       1   \n",
       "\n",
       "                                                 news_url  \\\n",
       "count                                                5067   \n",
       "unique                                               4681   \n",
       "top     www.newidea.com.au/jennifer-aniston-and-brad-p...   \n",
       "freq                                                    8   \n",
       "\n",
       "                                 title  \\\n",
       "count                             5323   \n",
       "unique                            4896   \n",
       "top     Connecting People Through News   \n",
       "freq                                20   \n",
       "\n",
       "                                                tweet_ids  \n",
       "count                                                5135  \n",
       "unique                                               5047  \n",
       "top     950201158445948928\\t978452415514136576\\t101565...  \n",
       "freq                                                    6  "
      ]
     },
     "execution_count": 5,
     "metadata": {},
     "output_type": "execute_result"
    }
   ],
   "source": [
    "data1_fake.describe()"
   ]
  },
  {
   "cell_type": "code",
   "execution_count": 6,
   "id": "45d564cb-0456-4721-9571-17cca28c0230",
   "metadata": {},
   "outputs": [
    {
     "data": {
      "text/plain": [
       "(5323, 4)"
      ]
     },
     "execution_count": 6,
     "metadata": {},
     "output_type": "execute_result"
    }
   ],
   "source": [
    "data1_fake.shape"
   ]
  },
  {
   "cell_type": "code",
   "execution_count": 7,
   "id": "49e37b45-67d4-4db2-9991-495b9e809d94",
   "metadata": {},
   "outputs": [
    {
     "name": "stdout",
     "output_type": "stream",
     "text": [
      "<class 'pandas.core.frame.DataFrame'>\n",
      "RangeIndex: 5323 entries, 0 to 5322\n",
      "Data columns (total 4 columns):\n",
      " #   Column     Non-Null Count  Dtype \n",
      "---  ------     --------------  ----- \n",
      " 0   id         5323 non-null   object\n",
      " 1   news_url   5067 non-null   object\n",
      " 2   title      5323 non-null   object\n",
      " 3   tweet_ids  5135 non-null   object\n",
      "dtypes: object(4)\n",
      "memory usage: 166.5+ KB\n"
     ]
    }
   ],
   "source": [
    "data1_fake.info()"
   ]
  },
  {
   "cell_type": "code",
   "execution_count": 8,
   "id": "18ba1ea4-ee70-40eb-ac68-06bf4a38d053",
   "metadata": {},
   "outputs": [
    {
     "data": {
      "text/plain": [
       "id           object\n",
       "news_url     object\n",
       "title        object\n",
       "tweet_ids    object\n",
       "dtype: object"
      ]
     },
     "execution_count": 8,
     "metadata": {},
     "output_type": "execute_result"
    }
   ],
   "source": [
    "data1_fake.dtypes"
   ]
  },
  {
   "cell_type": "code",
   "execution_count": null,
   "id": "c1f21458-c501-4ea8-833d-14fe193339d0",
   "metadata": {},
   "outputs": [],
   "source": []
  },
  {
   "cell_type": "code",
   "execution_count": 9,
   "id": "6a62a80f-bc48-4117-9ae0-34d5d0e958e3",
   "metadata": {},
   "outputs": [
    {
     "data": {
      "text/html": [
       "<div>\n",
       "<style scoped>\n",
       "    .dataframe tbody tr th:only-of-type {\n",
       "        vertical-align: middle;\n",
       "    }\n",
       "\n",
       "    .dataframe tbody tr th {\n",
       "        vertical-align: top;\n",
       "    }\n",
       "\n",
       "    .dataframe thead th {\n",
       "        text-align: right;\n",
       "    }\n",
       "</style>\n",
       "<table border=\"1\" class=\"dataframe\">\n",
       "  <thead>\n",
       "    <tr style=\"text-align: right;\">\n",
       "      <th></th>\n",
       "      <th>id</th>\n",
       "      <th>news_url</th>\n",
       "      <th>title</th>\n",
       "      <th>tweet_ids</th>\n",
       "    </tr>\n",
       "  </thead>\n",
       "  <tbody>\n",
       "    <tr>\n",
       "      <th>0</th>\n",
       "      <td>gossipcop-882573</td>\n",
       "      <td>https://www.brides.com/story/teen-mom-jenelle-...</td>\n",
       "      <td>Teen Mom Star Jenelle Evans' Wedding Dress Is ...</td>\n",
       "      <td>912371411146149888\\t912371528343408641\\t912372...</td>\n",
       "    </tr>\n",
       "    <tr>\n",
       "      <th>1</th>\n",
       "      <td>gossipcop-875924</td>\n",
       "      <td>https://www.dailymail.co.uk/tvshowbiz/article-...</td>\n",
       "      <td>Kylie Jenner refusing to discuss Tyga on Life ...</td>\n",
       "      <td>901989917546426369\\t901989992074969089\\t901990...</td>\n",
       "    </tr>\n",
       "    <tr>\n",
       "      <th>2</th>\n",
       "      <td>gossipcop-894416</td>\n",
       "      <td>https://en.wikipedia.org/wiki/Quinn_Perkins</td>\n",
       "      <td>Quinn Perkins</td>\n",
       "      <td>931263637246881792\\t931265332022579201\\t931265...</td>\n",
       "    </tr>\n",
       "  </tbody>\n",
       "</table>\n",
       "</div>"
      ],
      "text/plain": [
       "                 id                                           news_url  \\\n",
       "0  gossipcop-882573  https://www.brides.com/story/teen-mom-jenelle-...   \n",
       "1  gossipcop-875924  https://www.dailymail.co.uk/tvshowbiz/article-...   \n",
       "2  gossipcop-894416        https://en.wikipedia.org/wiki/Quinn_Perkins   \n",
       "\n",
       "                                               title  \\\n",
       "0  Teen Mom Star Jenelle Evans' Wedding Dress Is ...   \n",
       "1  Kylie Jenner refusing to discuss Tyga on Life ...   \n",
       "2                                      Quinn Perkins   \n",
       "\n",
       "                                           tweet_ids  \n",
       "0  912371411146149888\\t912371528343408641\\t912372...  \n",
       "1  901989917546426369\\t901989992074969089\\t901990...  \n",
       "2  931263637246881792\\t931265332022579201\\t931265...  "
      ]
     },
     "execution_count": 9,
     "metadata": {},
     "output_type": "execute_result"
    }
   ],
   "source": [
    "data1_real.head(3)"
   ]
  },
  {
   "cell_type": "code",
   "execution_count": 10,
   "id": "03f20010-160c-4797-85be-cb221faf8fe3",
   "metadata": {},
   "outputs": [
    {
     "data": {
      "text/plain": [
       "Index(['id', 'news_url', 'title', 'tweet_ids'], dtype='object')"
      ]
     },
     "execution_count": 10,
     "metadata": {},
     "output_type": "execute_result"
    }
   ],
   "source": [
    "data1_real.columns"
   ]
  },
  {
   "cell_type": "code",
   "execution_count": 11,
   "id": "32be6a9e-b165-4547-bea9-aa5115b90a47",
   "metadata": {},
   "outputs": [
    {
     "data": {
      "text/html": [
       "<div>\n",
       "<style scoped>\n",
       "    .dataframe tbody tr th:only-of-type {\n",
       "        vertical-align: middle;\n",
       "    }\n",
       "\n",
       "    .dataframe tbody tr th {\n",
       "        vertical-align: top;\n",
       "    }\n",
       "\n",
       "    .dataframe thead th {\n",
       "        text-align: right;\n",
       "    }\n",
       "</style>\n",
       "<table border=\"1\" class=\"dataframe\">\n",
       "  <thead>\n",
       "    <tr style=\"text-align: right;\">\n",
       "      <th></th>\n",
       "      <th>id</th>\n",
       "      <th>news_url</th>\n",
       "      <th>title</th>\n",
       "      <th>tweet_ids</th>\n",
       "    </tr>\n",
       "  </thead>\n",
       "  <tbody>\n",
       "    <tr>\n",
       "      <th>count</th>\n",
       "      <td>16817</td>\n",
       "      <td>16804</td>\n",
       "      <td>16817</td>\n",
       "      <td>15759</td>\n",
       "    </tr>\n",
       "    <tr>\n",
       "      <th>unique</th>\n",
       "      <td>16817</td>\n",
       "      <td>16010</td>\n",
       "      <td>15967</td>\n",
       "      <td>15758</td>\n",
       "    </tr>\n",
       "    <tr>\n",
       "      <th>top</th>\n",
       "      <td>gossipcop-882573</td>\n",
       "      <td>https://www.thewrap.com/this-is-us-everything-...</td>\n",
       "      <td>- USweekly</td>\n",
       "      <td>989840869443457024\\t990987021194743808</td>\n",
       "    </tr>\n",
       "    <tr>\n",
       "      <th>freq</th>\n",
       "      <td>1</td>\n",
       "      <td>11</td>\n",
       "      <td>12</td>\n",
       "      <td>2</td>\n",
       "    </tr>\n",
       "  </tbody>\n",
       "</table>\n",
       "</div>"
      ],
      "text/plain": [
       "                      id                                           news_url  \\\n",
       "count              16817                                              16804   \n",
       "unique             16817                                              16010   \n",
       "top     gossipcop-882573  https://www.thewrap.com/this-is-us-everything-...   \n",
       "freq                   1                                                 11   \n",
       "\n",
       "             title                               tweet_ids  \n",
       "count        16817                                   15759  \n",
       "unique       15967                                   15758  \n",
       "top     - USweekly  989840869443457024\\t990987021194743808  \n",
       "freq            12                                       2  "
      ]
     },
     "execution_count": 11,
     "metadata": {},
     "output_type": "execute_result"
    }
   ],
   "source": [
    "data1_real.describe()"
   ]
  },
  {
   "cell_type": "code",
   "execution_count": 12,
   "id": "3abf86dd-fb48-4823-a1b9-4b4279882c9c",
   "metadata": {},
   "outputs": [
    {
     "data": {
      "text/plain": [
       "(16817, 4)"
      ]
     },
     "execution_count": 12,
     "metadata": {},
     "output_type": "execute_result"
    }
   ],
   "source": [
    "data1_real.shape"
   ]
  },
  {
   "cell_type": "code",
   "execution_count": 13,
   "id": "5b15179f-b003-4b2e-8ca1-20932a056c24",
   "metadata": {},
   "outputs": [
    {
     "name": "stdout",
     "output_type": "stream",
     "text": [
      "<class 'pandas.core.frame.DataFrame'>\n",
      "RangeIndex: 16817 entries, 0 to 16816\n",
      "Data columns (total 4 columns):\n",
      " #   Column     Non-Null Count  Dtype \n",
      "---  ------     --------------  ----- \n",
      " 0   id         16817 non-null  object\n",
      " 1   news_url   16804 non-null  object\n",
      " 2   title      16817 non-null  object\n",
      " 3   tweet_ids  15759 non-null  object\n",
      "dtypes: object(4)\n",
      "memory usage: 525.7+ KB\n"
     ]
    }
   ],
   "source": [
    "data1_real.info()"
   ]
  },
  {
   "cell_type": "code",
   "execution_count": null,
   "id": "537eab9f-cee7-4bf9-aca1-331ec13fc0d5",
   "metadata": {},
   "outputs": [],
   "source": []
  },
  {
   "cell_type": "code",
   "execution_count": 14,
   "id": "7efa3aa7-1d32-40ca-8265-be145b6b073b",
   "metadata": {},
   "outputs": [
    {
     "data": {
      "text/html": [
       "<div>\n",
       "<style scoped>\n",
       "    .dataframe tbody tr th:only-of-type {\n",
       "        vertical-align: middle;\n",
       "    }\n",
       "\n",
       "    .dataframe tbody tr th {\n",
       "        vertical-align: top;\n",
       "    }\n",
       "\n",
       "    .dataframe thead th {\n",
       "        text-align: right;\n",
       "    }\n",
       "</style>\n",
       "<table border=\"1\" class=\"dataframe\">\n",
       "  <thead>\n",
       "    <tr style=\"text-align: right;\">\n",
       "      <th></th>\n",
       "      <th>id</th>\n",
       "      <th>news_url</th>\n",
       "      <th>title</th>\n",
       "      <th>tweet_ids</th>\n",
       "    </tr>\n",
       "  </thead>\n",
       "  <tbody>\n",
       "    <tr>\n",
       "      <th>0</th>\n",
       "      <td>politifact15014</td>\n",
       "      <td>speedtalk.com/forum/viewtopic.php?t=51650</td>\n",
       "      <td>BREAKING: First NFL Team Declares Bankruptcy O...</td>\n",
       "      <td>937349434668498944\\t937379378006282240\\t937380...</td>\n",
       "    </tr>\n",
       "    <tr>\n",
       "      <th>1</th>\n",
       "      <td>politifact15156</td>\n",
       "      <td>politics2020.info/index.php/2018/03/13/court-o...</td>\n",
       "      <td>Court Orders Obama To Pay $400 Million In Rest...</td>\n",
       "      <td>972666281441878016\\t972678396575559680\\t972827...</td>\n",
       "    </tr>\n",
       "    <tr>\n",
       "      <th>2</th>\n",
       "      <td>politifact14745</td>\n",
       "      <td>www.nscdscamps.org/blog/category/parenting/467...</td>\n",
       "      <td>UPDATE: Second Roy Moore Accuser Works For Mic...</td>\n",
       "      <td>929405740732870656\\t929439450400264192\\t929439...</td>\n",
       "    </tr>\n",
       "  </tbody>\n",
       "</table>\n",
       "</div>"
      ],
      "text/plain": [
       "                id                                           news_url  \\\n",
       "0  politifact15014          speedtalk.com/forum/viewtopic.php?t=51650   \n",
       "1  politifact15156  politics2020.info/index.php/2018/03/13/court-o...   \n",
       "2  politifact14745  www.nscdscamps.org/blog/category/parenting/467...   \n",
       "\n",
       "                                               title  \\\n",
       "0  BREAKING: First NFL Team Declares Bankruptcy O...   \n",
       "1  Court Orders Obama To Pay $400 Million In Rest...   \n",
       "2  UPDATE: Second Roy Moore Accuser Works For Mic...   \n",
       "\n",
       "                                           tweet_ids  \n",
       "0  937349434668498944\\t937379378006282240\\t937380...  \n",
       "1  972666281441878016\\t972678396575559680\\t972827...  \n",
       "2  929405740732870656\\t929439450400264192\\t929439...  "
      ]
     },
     "execution_count": 14,
     "metadata": {},
     "output_type": "execute_result"
    }
   ],
   "source": [
    "data2_fake.head(3)"
   ]
  },
  {
   "cell_type": "code",
   "execution_count": 15,
   "id": "83d708c3-134f-436e-83ad-f5af6eeffa06",
   "metadata": {},
   "outputs": [
    {
     "data": {
      "text/plain": [
       "Index(['id', 'news_url', 'title', 'tweet_ids'], dtype='object')"
      ]
     },
     "execution_count": 15,
     "metadata": {},
     "output_type": "execute_result"
    }
   ],
   "source": [
    "data2_fake.columns"
   ]
  },
  {
   "cell_type": "code",
   "execution_count": 16,
   "id": "08d13bd4-fedf-4a0d-84d4-a78f22d1ceea",
   "metadata": {},
   "outputs": [
    {
     "data": {
      "text/html": [
       "<div>\n",
       "<style scoped>\n",
       "    .dataframe tbody tr th:only-of-type {\n",
       "        vertical-align: middle;\n",
       "    }\n",
       "\n",
       "    .dataframe tbody tr th {\n",
       "        vertical-align: top;\n",
       "    }\n",
       "\n",
       "    .dataframe thead th {\n",
       "        text-align: right;\n",
       "    }\n",
       "</style>\n",
       "<table border=\"1\" class=\"dataframe\">\n",
       "  <thead>\n",
       "    <tr style=\"text-align: right;\">\n",
       "      <th></th>\n",
       "      <th>id</th>\n",
       "      <th>news_url</th>\n",
       "      <th>title</th>\n",
       "      <th>tweet_ids</th>\n",
       "    </tr>\n",
       "  </thead>\n",
       "  <tbody>\n",
       "    <tr>\n",
       "      <th>count</th>\n",
       "      <td>432</td>\n",
       "      <td>428</td>\n",
       "      <td>432</td>\n",
       "      <td>392</td>\n",
       "    </tr>\n",
       "    <tr>\n",
       "      <th>unique</th>\n",
       "      <td>432</td>\n",
       "      <td>428</td>\n",
       "      <td>428</td>\n",
       "      <td>392</td>\n",
       "    </tr>\n",
       "    <tr>\n",
       "      <th>top</th>\n",
       "      <td>politifact15014</td>\n",
       "      <td>speedtalk.com/forum/viewtopic.php?t=51650</td>\n",
       "      <td>Account Suspended</td>\n",
       "      <td>937349434668498944\\t937379378006282240\\t937380...</td>\n",
       "    </tr>\n",
       "    <tr>\n",
       "      <th>freq</th>\n",
       "      <td>1</td>\n",
       "      <td>1</td>\n",
       "      <td>3</td>\n",
       "      <td>1</td>\n",
       "    </tr>\n",
       "  </tbody>\n",
       "</table>\n",
       "</div>"
      ],
      "text/plain": [
       "                     id                                   news_url  \\\n",
       "count               432                                        428   \n",
       "unique              432                                        428   \n",
       "top     politifact15014  speedtalk.com/forum/viewtopic.php?t=51650   \n",
       "freq                  1                                          1   \n",
       "\n",
       "                    title                                          tweet_ids  \n",
       "count                 432                                                392  \n",
       "unique                428                                                392  \n",
       "top     Account Suspended  937349434668498944\\t937379378006282240\\t937380...  \n",
       "freq                    3                                                  1  "
      ]
     },
     "execution_count": 16,
     "metadata": {},
     "output_type": "execute_result"
    }
   ],
   "source": [
    "data2_fake.describe()"
   ]
  },
  {
   "cell_type": "code",
   "execution_count": 17,
   "id": "a2487f2b-0931-4f93-b173-3fc17f86c8b5",
   "metadata": {},
   "outputs": [
    {
     "data": {
      "text/plain": [
       "(432, 4)"
      ]
     },
     "execution_count": 17,
     "metadata": {},
     "output_type": "execute_result"
    }
   ],
   "source": [
    "data2_fake.shape"
   ]
  },
  {
   "cell_type": "code",
   "execution_count": 18,
   "id": "acb31b1c-0c7a-41a8-a2cb-565ddabc05b9",
   "metadata": {},
   "outputs": [
    {
     "name": "stdout",
     "output_type": "stream",
     "text": [
      "<class 'pandas.core.frame.DataFrame'>\n",
      "RangeIndex: 432 entries, 0 to 431\n",
      "Data columns (total 4 columns):\n",
      " #   Column     Non-Null Count  Dtype \n",
      "---  ------     --------------  ----- \n",
      " 0   id         432 non-null    object\n",
      " 1   news_url   428 non-null    object\n",
      " 2   title      432 non-null    object\n",
      " 3   tweet_ids  392 non-null    object\n",
      "dtypes: object(4)\n",
      "memory usage: 13.6+ KB\n"
     ]
    }
   ],
   "source": [
    "data2_fake.info()"
   ]
  },
  {
   "cell_type": "code",
   "execution_count": null,
   "id": "dffb6c43-f19b-4998-8244-86543c995aee",
   "metadata": {},
   "outputs": [],
   "source": []
  },
  {
   "cell_type": "code",
   "execution_count": 19,
   "id": "a616b8fb-82aa-4441-8266-46fb58c11d3c",
   "metadata": {},
   "outputs": [
    {
     "data": {
      "text/html": [
       "<div>\n",
       "<style scoped>\n",
       "    .dataframe tbody tr th:only-of-type {\n",
       "        vertical-align: middle;\n",
       "    }\n",
       "\n",
       "    .dataframe tbody tr th {\n",
       "        vertical-align: top;\n",
       "    }\n",
       "\n",
       "    .dataframe thead th {\n",
       "        text-align: right;\n",
       "    }\n",
       "</style>\n",
       "<table border=\"1\" class=\"dataframe\">\n",
       "  <thead>\n",
       "    <tr style=\"text-align: right;\">\n",
       "      <th></th>\n",
       "      <th>id</th>\n",
       "      <th>news_url</th>\n",
       "      <th>title</th>\n",
       "      <th>tweet_ids</th>\n",
       "    </tr>\n",
       "  </thead>\n",
       "  <tbody>\n",
       "    <tr>\n",
       "      <th>0</th>\n",
       "      <td>politifact14984</td>\n",
       "      <td>http://www.nfib-sbet.org/</td>\n",
       "      <td>National Federation of Independent Business</td>\n",
       "      <td>967132259869487105\\t967164368768196609\\t967215...</td>\n",
       "    </tr>\n",
       "    <tr>\n",
       "      <th>1</th>\n",
       "      <td>politifact12944</td>\n",
       "      <td>http://www.cq.com/doc/newsmakertranscripts-494...</td>\n",
       "      <td>comments in Fayetteville NC</td>\n",
       "      <td>942953459\\t8980098198\\t16253717352\\t1668513250...</td>\n",
       "    </tr>\n",
       "    <tr>\n",
       "      <th>2</th>\n",
       "      <td>politifact333</td>\n",
       "      <td>https://web.archive.org/web/20080204072132/htt...</td>\n",
       "      <td>Romney makes pitch, hoping to close deal : Ele...</td>\n",
       "      <td>NaN</td>\n",
       "    </tr>\n",
       "  </tbody>\n",
       "</table>\n",
       "</div>"
      ],
      "text/plain": [
       "                id                                           news_url  \\\n",
       "0  politifact14984                          http://www.nfib-sbet.org/   \n",
       "1  politifact12944  http://www.cq.com/doc/newsmakertranscripts-494...   \n",
       "2    politifact333  https://web.archive.org/web/20080204072132/htt...   \n",
       "\n",
       "                                               title  \\\n",
       "0        National Federation of Independent Business   \n",
       "1                        comments in Fayetteville NC   \n",
       "2  Romney makes pitch, hoping to close deal : Ele...   \n",
       "\n",
       "                                           tweet_ids  \n",
       "0  967132259869487105\\t967164368768196609\\t967215...  \n",
       "1  942953459\\t8980098198\\t16253717352\\t1668513250...  \n",
       "2                                                NaN  "
      ]
     },
     "execution_count": 19,
     "metadata": {},
     "output_type": "execute_result"
    }
   ],
   "source": [
    "data2_real.head(3)"
   ]
  },
  {
   "cell_type": "code",
   "execution_count": 20,
   "id": "87337377-2eef-425b-bb75-9975655f03f0",
   "metadata": {},
   "outputs": [
    {
     "data": {
      "text/plain": [
       "Index(['id', 'news_url', 'title', 'tweet_ids'], dtype='object')"
      ]
     },
     "execution_count": 20,
     "metadata": {},
     "output_type": "execute_result"
    }
   ],
   "source": [
    "data2_real.columns"
   ]
  },
  {
   "cell_type": "code",
   "execution_count": 21,
   "id": "da406092-e697-4df4-94f9-24aad461dc82",
   "metadata": {},
   "outputs": [
    {
     "data": {
      "text/html": [
       "<div>\n",
       "<style scoped>\n",
       "    .dataframe tbody tr th:only-of-type {\n",
       "        vertical-align: middle;\n",
       "    }\n",
       "\n",
       "    .dataframe tbody tr th {\n",
       "        vertical-align: top;\n",
       "    }\n",
       "\n",
       "    .dataframe thead th {\n",
       "        text-align: right;\n",
       "    }\n",
       "</style>\n",
       "<table border=\"1\" class=\"dataframe\">\n",
       "  <thead>\n",
       "    <tr style=\"text-align: right;\">\n",
       "      <th></th>\n",
       "      <th>id</th>\n",
       "      <th>news_url</th>\n",
       "      <th>title</th>\n",
       "      <th>tweet_ids</th>\n",
       "    </tr>\n",
       "  </thead>\n",
       "  <tbody>\n",
       "    <tr>\n",
       "      <th>count</th>\n",
       "      <td>624</td>\n",
       "      <td>567</td>\n",
       "      <td>624</td>\n",
       "      <td>409</td>\n",
       "    </tr>\n",
       "    <tr>\n",
       "      <th>unique</th>\n",
       "      <td>624</td>\n",
       "      <td>541</td>\n",
       "      <td>557</td>\n",
       "      <td>402</td>\n",
       "    </tr>\n",
       "    <tr>\n",
       "      <th>top</th>\n",
       "      <td>politifact14984</td>\n",
       "      <td>https://web.archive.org/web/20050322064340/htt...</td>\n",
       "      <td>Outlook, Office, Skype, Bing, Breaking News, a...</td>\n",
       "      <td>1019328994607550465\\t1019329029470674947\\t1019...</td>\n",
       "    </tr>\n",
       "    <tr>\n",
       "      <th>freq</th>\n",
       "      <td>1</td>\n",
       "      <td>4</td>\n",
       "      <td>13</td>\n",
       "      <td>2</td>\n",
       "    </tr>\n",
       "  </tbody>\n",
       "</table>\n",
       "</div>"
      ],
      "text/plain": [
       "                     id                                           news_url  \\\n",
       "count               624                                                567   \n",
       "unique              624                                                541   \n",
       "top     politifact14984  https://web.archive.org/web/20050322064340/htt...   \n",
       "freq                  1                                                  4   \n",
       "\n",
       "                                                    title  \\\n",
       "count                                                 624   \n",
       "unique                                                557   \n",
       "top     Outlook, Office, Skype, Bing, Breaking News, a...   \n",
       "freq                                                   13   \n",
       "\n",
       "                                                tweet_ids  \n",
       "count                                                 409  \n",
       "unique                                                402  \n",
       "top     1019328994607550465\\t1019329029470674947\\t1019...  \n",
       "freq                                                    2  "
      ]
     },
     "execution_count": 21,
     "metadata": {},
     "output_type": "execute_result"
    }
   ],
   "source": [
    "data2_real.describe()"
   ]
  },
  {
   "cell_type": "code",
   "execution_count": 22,
   "id": "761bcae9-8229-4107-9248-a0066b27458e",
   "metadata": {},
   "outputs": [
    {
     "data": {
      "text/plain": [
       "(624, 4)"
      ]
     },
     "execution_count": 22,
     "metadata": {},
     "output_type": "execute_result"
    }
   ],
   "source": [
    "data2_real.shape"
   ]
  },
  {
   "cell_type": "code",
   "execution_count": 23,
   "id": "532cc8d7-f5bd-4935-bf4e-4a0982c4c9d5",
   "metadata": {},
   "outputs": [
    {
     "name": "stdout",
     "output_type": "stream",
     "text": [
      "<class 'pandas.core.frame.DataFrame'>\n",
      "RangeIndex: 624 entries, 0 to 623\n",
      "Data columns (total 4 columns):\n",
      " #   Column     Non-Null Count  Dtype \n",
      "---  ------     --------------  ----- \n",
      " 0   id         624 non-null    object\n",
      " 1   news_url   567 non-null    object\n",
      " 2   title      624 non-null    object\n",
      " 3   tweet_ids  409 non-null    object\n",
      "dtypes: object(4)\n",
      "memory usage: 19.6+ KB\n"
     ]
    }
   ],
   "source": [
    "data2_real.info()"
   ]
  },
  {
   "cell_type": "code",
   "execution_count": null,
   "id": "cb3d93f3-1ec2-412d-8ea6-09d51fe5c150",
   "metadata": {},
   "outputs": [],
   "source": []
  },
  {
   "cell_type": "code",
   "execution_count": 24,
   "id": "15a7c8a5-b2ce-4fc2-aaeb-6530bae49068",
   "metadata": {},
   "outputs": [
    {
     "data": {
      "text/plain": [
       "id             0\n",
       "news_url     256\n",
       "title          0\n",
       "tweet_ids    188\n",
       "dtype: int64"
      ]
     },
     "execution_count": 24,
     "metadata": {},
     "output_type": "execute_result"
    }
   ],
   "source": [
    "# check for null values in all datasets\n",
    "\n",
    "data1_fake.isnull().sum()"
   ]
  },
  {
   "cell_type": "code",
   "execution_count": 25,
   "id": "82b65bf8-50b8-4639-8da1-68dfcb4f7210",
   "metadata": {},
   "outputs": [
    {
     "data": {
      "text/plain": [
       "id              0\n",
       "news_url       13\n",
       "title           0\n",
       "tweet_ids    1058\n",
       "dtype: int64"
      ]
     },
     "execution_count": 25,
     "metadata": {},
     "output_type": "execute_result"
    }
   ],
   "source": [
    "data1_real.isnull().sum()"
   ]
  },
  {
   "cell_type": "code",
   "execution_count": 26,
   "id": "eff3016a-9727-452d-a698-30e6bb3b1422",
   "metadata": {},
   "outputs": [
    {
     "data": {
      "text/plain": [
       "id            0\n",
       "news_url      4\n",
       "title         0\n",
       "tweet_ids    40\n",
       "dtype: int64"
      ]
     },
     "execution_count": 26,
     "metadata": {},
     "output_type": "execute_result"
    }
   ],
   "source": [
    "data2_fake.isnull().sum()"
   ]
  },
  {
   "cell_type": "code",
   "execution_count": 27,
   "id": "f213ef71-50f0-404d-a232-af2ecb23f9d1",
   "metadata": {},
   "outputs": [
    {
     "data": {
      "text/plain": [
       "id             0\n",
       "news_url      57\n",
       "title          0\n",
       "tweet_ids    215\n",
       "dtype: int64"
      ]
     },
     "execution_count": 27,
     "metadata": {},
     "output_type": "execute_result"
    }
   ],
   "source": [
    "data2_real.isnull().sum()"
   ]
  },
  {
   "cell_type": "code",
   "execution_count": null,
   "id": "590ce49e-8ebf-4072-bfb3-7685499c974e",
   "metadata": {},
   "outputs": [],
   "source": []
  },
  {
   "cell_type": "code",
   "execution_count": 28,
   "id": "2a2f6054-e6ce-40d1-a03e-3ea9b1254d8f",
   "metadata": {},
   "outputs": [],
   "source": [
    "# Add Labels (0 for fake, 1 for real)\n",
    "data1_fake['label'] = 0\n",
    "data1_real['label'] = 1\n",
    "data2_fake['label'] = 0\n",
    "data2_real['label'] = 1"
   ]
  },
  {
   "cell_type": "code",
   "execution_count": 29,
   "id": "4db8bcf4-b581-470b-804d-a2a2d634b1c6",
   "metadata": {},
   "outputs": [],
   "source": [
    "# Combine All Datasets\n",
    "df = pd.concat([data1_fake, data1_real, data2_fake, data2_real], ignore_index=True)"
   ]
  },
  {
   "cell_type": "code",
   "execution_count": 30,
   "id": "80424a43-d80e-4b44-bf7c-05163cdf3f23",
   "metadata": {},
   "outputs": [
    {
     "data": {
      "text/html": [
       "<div>\n",
       "<style scoped>\n",
       "    .dataframe tbody tr th:only-of-type {\n",
       "        vertical-align: middle;\n",
       "    }\n",
       "\n",
       "    .dataframe tbody tr th {\n",
       "        vertical-align: top;\n",
       "    }\n",
       "\n",
       "    .dataframe thead th {\n",
       "        text-align: right;\n",
       "    }\n",
       "</style>\n",
       "<table border=\"1\" class=\"dataframe\">\n",
       "  <thead>\n",
       "    <tr style=\"text-align: right;\">\n",
       "      <th></th>\n",
       "      <th>id</th>\n",
       "      <th>news_url</th>\n",
       "      <th>title</th>\n",
       "      <th>tweet_ids</th>\n",
       "      <th>label</th>\n",
       "    </tr>\n",
       "  </thead>\n",
       "  <tbody>\n",
       "    <tr>\n",
       "      <th>0</th>\n",
       "      <td>gossipcop-2493749932</td>\n",
       "      <td>www.dailymail.co.uk/tvshowbiz/article-5874213/...</td>\n",
       "      <td>Did Miley Cyrus and Liam Hemsworth secretly ge...</td>\n",
       "      <td>284329075902926848\\t284332744559968256\\t284335...</td>\n",
       "      <td>0</td>\n",
       "    </tr>\n",
       "    <tr>\n",
       "      <th>1</th>\n",
       "      <td>gossipcop-4580247171</td>\n",
       "      <td>hollywoodlife.com/2018/05/05/paris-jackson-car...</td>\n",
       "      <td>Paris Jackson &amp; Cara Delevingne Enjoy Night Ou...</td>\n",
       "      <td>992895508267130880\\t992897935418503169\\t992899...</td>\n",
       "      <td>0</td>\n",
       "    </tr>\n",
       "    <tr>\n",
       "      <th>2</th>\n",
       "      <td>gossipcop-941805037</td>\n",
       "      <td>variety.com/2017/biz/news/tax-march-donald-tru...</td>\n",
       "      <td>Celebrities Join Tax March in Protest of Donal...</td>\n",
       "      <td>853359353532829696\\t853359576543920128\\t853359...</td>\n",
       "      <td>0</td>\n",
       "    </tr>\n",
       "    <tr>\n",
       "      <th>3</th>\n",
       "      <td>gossipcop-2547891536</td>\n",
       "      <td>www.dailymail.co.uk/femail/article-3499192/Do-...</td>\n",
       "      <td>Cindy Crawford's daughter Kaia Gerber wears a ...</td>\n",
       "      <td>988821905196158981\\t988824206556172288\\t988825...</td>\n",
       "      <td>0</td>\n",
       "    </tr>\n",
       "    <tr>\n",
       "      <th>4</th>\n",
       "      <td>gossipcop-5476631226</td>\n",
       "      <td>variety.com/2018/film/news/list-2018-oscar-nom...</td>\n",
       "      <td>Full List of 2018 Oscar Nominations – Variety</td>\n",
       "      <td>955792793632432131\\t955795063925301249\\t955798...</td>\n",
       "      <td>0</td>\n",
       "    </tr>\n",
       "  </tbody>\n",
       "</table>\n",
       "</div>"
      ],
      "text/plain": [
       "                     id                                           news_url  \\\n",
       "0  gossipcop-2493749932  www.dailymail.co.uk/tvshowbiz/article-5874213/...   \n",
       "1  gossipcop-4580247171  hollywoodlife.com/2018/05/05/paris-jackson-car...   \n",
       "2   gossipcop-941805037  variety.com/2017/biz/news/tax-march-donald-tru...   \n",
       "3  gossipcop-2547891536  www.dailymail.co.uk/femail/article-3499192/Do-...   \n",
       "4  gossipcop-5476631226  variety.com/2018/film/news/list-2018-oscar-nom...   \n",
       "\n",
       "                                               title  \\\n",
       "0  Did Miley Cyrus and Liam Hemsworth secretly ge...   \n",
       "1  Paris Jackson & Cara Delevingne Enjoy Night Ou...   \n",
       "2  Celebrities Join Tax March in Protest of Donal...   \n",
       "3  Cindy Crawford's daughter Kaia Gerber wears a ...   \n",
       "4      Full List of 2018 Oscar Nominations – Variety   \n",
       "\n",
       "                                           tweet_ids  label  \n",
       "0  284329075902926848\\t284332744559968256\\t284335...      0  \n",
       "1  992895508267130880\\t992897935418503169\\t992899...      0  \n",
       "2  853359353532829696\\t853359576543920128\\t853359...      0  \n",
       "3  988821905196158981\\t988824206556172288\\t988825...      0  \n",
       "4  955792793632432131\\t955795063925301249\\t955798...      0  "
      ]
     },
     "execution_count": 30,
     "metadata": {},
     "output_type": "execute_result"
    }
   ],
   "source": [
    "df.head()"
   ]
  },
  {
   "cell_type": "code",
   "execution_count": 31,
   "id": "9db71e29-23a0-4d00-9e0b-ce37abc0387d",
   "metadata": {},
   "outputs": [],
   "source": [
    "# Drop unnecessary columns\n",
    "df.drop(columns=[\"id\", \"news_url\", \"tweet_ids\"], inplace=True)"
   ]
  },
  {
   "cell_type": "code",
   "execution_count": 32,
   "id": "eb32f002-aeca-45a5-aa9f-7ec0282aa8dd",
   "metadata": {},
   "outputs": [
    {
     "name": "stdout",
     "output_type": "stream",
     "text": [
      "title    0\n",
      "label    0\n",
      "dtype: int64\n"
     ]
    }
   ],
   "source": [
    "# now again check nulls\n",
    "print(df.isnull().sum())"
   ]
  },
  {
   "cell_type": "code",
   "execution_count": 33,
   "id": "260c044d-0ffe-44ca-91c0-334db4516715",
   "metadata": {},
   "outputs": [],
   "source": [
    "# Drop rows with missing titles\n",
    "df.dropna(subset=[\"title\"], inplace=True)"
   ]
  },
  {
   "cell_type": "code",
   "execution_count": 34,
   "id": "1238a105-ebad-4cc4-9d0c-f4594fe65fc4",
   "metadata": {},
   "outputs": [],
   "source": [
    "# Text Cleaning Function - removing url's, special characters, extra spaces\n",
    "def clean_text(text):\n",
    "    text = text.lower()\n",
    "    text = re.sub(r'https?://\\S+', '', text)  \n",
    "    text = re.sub(r'[^a-zA-Z\\s]', '', text)  \n",
    "    text = re.sub(r'\\s+', ' ', text)  \n",
    "    return text.strip()\n",
    "\n",
    "df['clean_title'] = df['title'].apply(clean_text)"
   ]
  },
  {
   "cell_type": "code",
   "execution_count": 35,
   "id": "16e69149-0478-4fdd-b0f3-5d1236497074",
   "metadata": {},
   "outputs": [
    {
     "data": {
      "text/plain": [
       "0        did miley cyrus and liam hemsworth secretly ge...\n",
       "1        paris jackson cara delevingne enjoy night out ...\n",
       "2        celebrities join tax march in protest of donal...\n",
       "3        cindy crawfords daughter kaia gerber wears a w...\n",
       "4                   full list of oscar nominations variety\n",
       "                               ...                        \n",
       "23191    flake religious tests should have no place in ...\n",
       "23192                             change we can believe in\n",
       "23193    deputy director of national health statistics ...\n",
       "23194      romneys prolife conversion myth or reality june\n",
       "23195                               interest group ratings\n",
       "Name: clean_title, Length: 23196, dtype: object"
      ]
     },
     "execution_count": 35,
     "metadata": {},
     "output_type": "execute_result"
    }
   ],
   "source": [
    "df['clean_title']"
   ]
  },
  {
   "cell_type": "code",
   "execution_count": 36,
   "id": "69b89e97-405d-4804-9bc0-ff3b3e4a8bda",
   "metadata": {},
   "outputs": [
    {
     "data": {
      "text/plain": [
       "np.int64(23196)"
      ]
     },
     "execution_count": 36,
     "metadata": {},
     "output_type": "execute_result"
    }
   ],
   "source": [
    "df['clean_title'].count()"
   ]
  },
  {
   "cell_type": "code",
   "execution_count": null,
   "id": "d0c46ad7-113e-454a-be0d-33b95ff373f9",
   "metadata": {},
   "outputs": [],
   "source": []
  },
  {
   "cell_type": "code",
   "execution_count": 37,
   "id": "c8f73cd3-2757-43c2-a36f-0b460f5e4b57",
   "metadata": {},
   "outputs": [
    {
     "name": "stdout",
     "output_type": "stream",
     "text": [
      "Requirement already satisfied: scikit-learn in d:\\jupyter\\venv\\lib\\site-packages (1.7.0)\n",
      "Requirement already satisfied: numpy>=1.22.0 in d:\\jupyter\\venv\\lib\\site-packages (from scikit-learn) (2.3.0)\n",
      "Requirement already satisfied: scipy>=1.8.0 in d:\\jupyter\\venv\\lib\\site-packages (from scikit-learn) (1.15.3)\n",
      "Requirement already satisfied: joblib>=1.2.0 in d:\\jupyter\\venv\\lib\\site-packages (from scikit-learn) (1.5.1)\n",
      "Requirement already satisfied: threadpoolctl>=3.1.0 in d:\\jupyter\\venv\\lib\\site-packages (from scikit-learn) (3.6.0)\n"
     ]
    }
   ],
   "source": [
    "!pip install scikit-learn"
   ]
  },
  {
   "cell_type": "code",
   "execution_count": 38,
   "id": "77483a43-5018-49e0-a19d-ff9dfa2adee1",
   "metadata": {},
   "outputs": [],
   "source": [
    "# Vectorize using TF-IDF - convert text data (words) into numerical vectors\n",
    "\n",
    "from sklearn.feature_extraction.text import TfidfVectorizer\n",
    "\n",
    "tfidf = TfidfVectorizer(stop_words='english', max_features=1000)\n",
    "X = tfidf.fit_transform(df['clean_title'])\n",
    "y = df['label']"
   ]
  },
  {
   "cell_type": "code",
   "execution_count": 39,
   "id": "3e90b52d-872c-4ed8-8056-1ed97fe1698c",
   "metadata": {},
   "outputs": [],
   "source": [
    "# Train-Test Split\n",
    "\n",
    "from sklearn.model_selection import train_test_split\n",
    "X_train, X_test, y_train, y_test = train_test_split(X, y, test_size=0.2, random_state=42)"
   ]
  },
  {
   "cell_type": "code",
   "execution_count": 57,
   "id": "c0ef85c4-2cc2-4909-8825-de9fe5b3778d",
   "metadata": {},
   "outputs": [
    {
     "name": "stdout",
     "output_type": "stream",
     "text": [
      "{0, 1}\n",
      "{0, 1}\n"
     ]
    }
   ],
   "source": [
    "print(set(y_train))\n",
    "print(set(y_test))"
   ]
  },
  {
   "cell_type": "code",
   "execution_count": 58,
   "id": "09fa4a1b-3a21-412b-8aca-d63a2b538049",
   "metadata": {},
   "outputs": [],
   "source": [
    "df['label'] = df['label'].map({'fake': 0, 'real': 1})"
   ]
  },
  {
   "cell_type": "code",
   "execution_count": 40,
   "id": "162f65c1-72ae-4b1f-af40-873f6fe9ff9e",
   "metadata": {},
   "outputs": [],
   "source": [
    "# train and model evaluation\n",
    "\n",
    "from sklearn.linear_model import LogisticRegression\n",
    "from sklearn.naive_bayes import MultinomialNB\n",
    "from sklearn.ensemble import RandomForestClassifier\n",
    "from sklearn.svm import LinearSVC\n",
    "from sklearn.metrics import classification_report, confusion_matrix, accuracy_score"
   ]
  },
  {
   "cell_type": "code",
   "execution_count": 45,
   "id": "68523ce0-50f7-4be2-b266-b8f11bd08ca8",
   "metadata": {},
   "outputs": [],
   "source": [
    "# Logistic Regression\n",
    "\n",
    "from sklearn.linear_model import LogisticRegression\n",
    "from sklearn.metrics import classification_report, confusion_matrix, accuracy_score\n",
    "\n",
    "lr_model = LogisticRegression(max_iter=200)\n",
    "lr_model.fit(X_train, y_train)\n",
    "lr_preds = lr_model.predict(X_test)"
   ]
  },
  {
   "cell_type": "code",
   "execution_count": 46,
   "id": "fac8e3be-cd16-483b-acd6-992df0d6374c",
   "metadata": {},
   "outputs": [
    {
     "name": "stdout",
     "output_type": "stream",
     "text": [
      "Logistic Regression Results - \n",
      "Accuracy: 0.8288793103448275\n",
      "Confusion Matrix:\n",
      " [[ 522  626]\n",
      " [ 168 3324]]\n",
      "Classification Report:\n",
      "               precision    recall  f1-score   support\n",
      "\n",
      "           0       0.76      0.45      0.57      1148\n",
      "           1       0.84      0.95      0.89      3492\n",
      "\n",
      "    accuracy                           0.83      4640\n",
      "   macro avg       0.80      0.70      0.73      4640\n",
      "weighted avg       0.82      0.83      0.81      4640\n",
      "\n"
     ]
    }
   ],
   "source": [
    "print(\"Logistic Regression Results - \")\n",
    "print(\"Accuracy:\", accuracy_score(y_test, lr_preds))\n",
    "print(\"Confusion Matrix:\\n\", confusion_matrix(y_test, lr_preds))\n",
    "print(\"Classification Report:\\n\", classification_report(y_test, lr_preds))"
   ]
  },
  {
   "cell_type": "code",
   "execution_count": 47,
   "id": "f6be89e0-8a72-4be6-b694-a237e64ce27f",
   "metadata": {},
   "outputs": [],
   "source": [
    "# Multinomial Naive Bayes\n",
    "\n",
    "from sklearn.naive_bayes import MultinomialNB\n",
    "\n",
    "nb_model = MultinomialNB()\n",
    "nb_model.fit(X_train, y_train)\n",
    "nb_preds = nb_model.predict(X_test)"
   ]
  },
  {
   "cell_type": "code",
   "execution_count": 48,
   "id": "238a6be2-fc57-4086-837f-19203493ebf0",
   "metadata": {},
   "outputs": [
    {
     "name": "stdout",
     "output_type": "stream",
     "text": [
      "Naive Bayes Results - \n",
      "Accuracy: 0.8202586206896552\n",
      "Confusion Matrix:\n",
      " [[ 462  686]\n",
      " [ 148 3344]]\n",
      "Classification Report:\n",
      "               precision    recall  f1-score   support\n",
      "\n",
      "           0       0.76      0.40      0.53      1148\n",
      "           1       0.83      0.96      0.89      3492\n",
      "\n",
      "    accuracy                           0.82      4640\n",
      "   macro avg       0.79      0.68      0.71      4640\n",
      "weighted avg       0.81      0.82      0.80      4640\n",
      "\n"
     ]
    }
   ],
   "source": [
    "print(\"Naive Bayes Results - \")\n",
    "print(\"Accuracy:\", accuracy_score(y_test, nb_preds))\n",
    "print(\"Confusion Matrix:\\n\", confusion_matrix(y_test, nb_preds))\n",
    "print(\"Classification Report:\\n\", classification_report(y_test, nb_preds))"
   ]
  },
  {
   "cell_type": "code",
   "execution_count": 50,
   "id": "11a138dd-a0f5-445e-9863-1869226f0c07",
   "metadata": {},
   "outputs": [],
   "source": [
    "# Random Forest Classifier\n",
    "\n",
    "from sklearn.ensemble import RandomForestClassifier\n",
    "\n",
    "rf_model = RandomForestClassifier(n_estimators=100, max_depth=15, n_jobs= -1, random_state=42)\n",
    "rf_model.fit(X_train, y_train)\n",
    "rf_preds = rf_model.predict(X_test)"
   ]
  },
  {
   "cell_type": "code",
   "execution_count": 51,
   "id": "f2e0ccf0-cbfb-4b26-9ef9-d8ba9d56334f",
   "metadata": {},
   "outputs": [
    {
     "name": "stdout",
     "output_type": "stream",
     "text": [
      "Random Forest Results - \n",
      "Accuracy: 0.7887931034482759\n",
      "Confusion Matrix:\n",
      " [[ 199  949]\n",
      " [  31 3461]]\n",
      "Classification Report:\n",
      "               precision    recall  f1-score   support\n",
      "\n",
      "           0       0.87      0.17      0.29      1148\n",
      "           1       0.78      0.99      0.88      3492\n",
      "\n",
      "    accuracy                           0.79      4640\n",
      "   macro avg       0.83      0.58      0.58      4640\n",
      "weighted avg       0.80      0.79      0.73      4640\n",
      "\n"
     ]
    }
   ],
   "source": [
    "print(\"Random Forest Results - \")\n",
    "print(\"Accuracy:\", accuracy_score(y_test, rf_preds))\n",
    "print(\"Confusion Matrix:\\n\", confusion_matrix(y_test, rf_preds))\n",
    "print(\"Classification Report:\\n\", classification_report(y_test, rf_preds))"
   ]
  },
  {
   "cell_type": "code",
   "execution_count": 53,
   "id": "ed77fa5c-162b-4f55-af36-c7b6a03b609f",
   "metadata": {},
   "outputs": [],
   "source": [
    "# Support Vector machine - SVM\n",
    "\n",
    "from sklearn.svm import LinearSVC\n",
    "\n",
    "svm_model = LinearSVC(max_iter=1000)\n",
    "svm_model.fit(X_train, y_train)\n",
    "svm_preds = svm_model.predict(X_test)"
   ]
  },
  {
   "cell_type": "code",
   "execution_count": 54,
   "id": "49c31e24-6b93-4d86-a1be-4570790b966a",
   "metadata": {},
   "outputs": [
    {
     "name": "stdout",
     "output_type": "stream",
     "text": [
      "SVM Results - \n",
      "Accuracy: 0.8297413793103449\n",
      "Confusion Matrix:\n",
      " [[ 565  583]\n",
      " [ 207 3285]]\n",
      "Classification Report:\n",
      "               precision    recall  f1-score   support\n",
      "\n",
      "           0       0.73      0.49      0.59      1148\n",
      "           1       0.85      0.94      0.89      3492\n",
      "\n",
      "    accuracy                           0.83      4640\n",
      "   macro avg       0.79      0.72      0.74      4640\n",
      "weighted avg       0.82      0.83      0.82      4640\n",
      "\n"
     ]
    }
   ],
   "source": [
    "print(\"SVM Results - \")\n",
    "print(\"Accuracy:\", accuracy_score(y_test, svm_preds))\n",
    "print(\"Confusion Matrix:\\n\", confusion_matrix(y_test, svm_preds))\n",
    "print(\"Classification Report:\\n\", classification_report(y_test, svm_preds))"
   ]
  },
  {
   "cell_type": "code",
   "execution_count": 76,
   "id": "6496297a-2108-4c83-b0c6-0f616ffddb89",
   "metadata": {},
   "outputs": [
    {
     "data": {
      "text/plain": [
       "0"
      ]
     },
     "execution_count": 76,
     "metadata": {},
     "output_type": "execute_result"
    }
   ],
   "source": [
    "# Now i just want to cross check and i'm evaluating all models and storing results\n",
    "\n",
    "from sklearn.metrics import accuracy_score, classification_report\n",
    "import gc\n",
    "\n",
    "results = {}\n",
    "\n",
    "# Logistic Regression\n",
    "lr = LogisticRegression(max_iter=200)\n",
    "lr.fit(X_train, y_train)\n",
    "lr_pred = lr.predict(X_test)\n",
    "results[\"Logistic Regression\"] = {\n",
    "    \"accuracy\": accuracy_score(y_test, lr_pred),\n",
    "    \"report\": classification_report(y_test, lr_pred, output_dict=True)\n",
    "}\n",
    "del lr, lr_pred\n",
    "gc.collect()\n",
    "\n",
    "# Naive Bayes\n",
    "nb = MultinomialNB()\n",
    "nb.fit(X_train, y_train)\n",
    "nb_pred = nb.predict(X_test)\n",
    "results[\"Naive Bayes\"] = {\n",
    "    \"accuracy\": accuracy_score(y_test, nb_pred),\n",
    "    \"report\": classification_report(y_test, nb_pred, output_dict=True)\n",
    "}\n",
    "del nb, nb_pred\n",
    "gc.collect()\n",
    "\n",
    "# Random Forest\n",
    "rf = RandomForestClassifier(n_estimators=100, max_depth=15, n_jobs=-1, random_state=42)\n",
    "rf.fit(X_train, y_train)\n",
    "rf_pred = rf.predict(X_test)\n",
    "results[\"Random Forest\"] = {\n",
    "    \"accuracy\": accuracy_score(y_test, rf_pred),\n",
    "    \"report\": classification_report(y_test, rf_pred, output_dict=True)\n",
    "}\n",
    "del rf, rf_pred\n",
    "gc.collect()\n",
    "\n",
    "# SVM\n",
    "svm = LinearSVC(max_iter=1000)\n",
    "svm.fit(X_train, y_train)\n",
    "svm_pred = svm.predict(X_test)\n",
    "results[\"LinearSVM\"] = {\n",
    "    \"accuracy\": accuracy_score(y_test, svm_pred),\n",
    "    \"report\": classification_report(y_test, svm_pred, output_dict=True)\n",
    "}\n",
    "del svm, svm_pred\n",
    "gc.collect()\n"
   ]
  },
  {
   "cell_type": "code",
   "execution_count": 77,
   "id": "05725578-9287-4519-a9d8-d31d5d0bfdb2",
   "metadata": {},
   "outputs": [
    {
     "name": "stdout",
     "output_type": "stream",
     "text": [
      "Train labels: {0, 1}\n",
      "Test labels: {0, 1}\n",
      "Predicted values: (array([0, 1]), array([ 690, 3950]))\n",
      "LogReg Accuracy: 0.8288793103448275\n"
     ]
    }
   ],
   "source": [
    "# Debug Checklist\n",
    "\n",
    "# 1. Check label types\n",
    "print(\"Train labels:\", set(y_train))\n",
    "print(\"Test labels:\", set(y_test))\n",
    "\n",
    "# 2. Check prediction values\n",
    "print(\"Predicted values:\", np.unique(lr_preds, return_counts=True))\n",
    "\n",
    "# 3. Check actual accuracy\n",
    "print(\"LogReg Accuracy:\", results[\"Logistic Regression\"][\"accuracy\"])\n"
   ]
  },
  {
   "cell_type": "code",
   "execution_count": 78,
   "id": "55037629-c5be-4226-87ab-1878d6104cc2",
   "metadata": {},
   "outputs": [
    {
     "data": {
      "text/html": [
       "<div>\n",
       "<style scoped>\n",
       "    .dataframe tbody tr th:only-of-type {\n",
       "        vertical-align: middle;\n",
       "    }\n",
       "\n",
       "    .dataframe tbody tr th {\n",
       "        vertical-align: top;\n",
       "    }\n",
       "\n",
       "    .dataframe thead th {\n",
       "        text-align: right;\n",
       "    }\n",
       "</style>\n",
       "<table border=\"1\" class=\"dataframe\">\n",
       "  <thead>\n",
       "    <tr style=\"text-align: right;\">\n",
       "      <th></th>\n",
       "      <th>Accuracy</th>\n",
       "      <th>Precision (Fake)</th>\n",
       "      <th>Recall (Fake)</th>\n",
       "      <th>F1 (Fake)</th>\n",
       "      <th>Precision (Real)</th>\n",
       "      <th>Recall (Real)</th>\n",
       "      <th>F1 (Real)</th>\n",
       "    </tr>\n",
       "  </thead>\n",
       "  <tbody>\n",
       "    <tr>\n",
       "      <th>LinearSVM</th>\n",
       "      <td>0.829741</td>\n",
       "      <td>0.731865</td>\n",
       "      <td>0.492160</td>\n",
       "      <td>0.588542</td>\n",
       "      <td>0.849276</td>\n",
       "      <td>0.940722</td>\n",
       "      <td>0.892663</td>\n",
       "    </tr>\n",
       "    <tr>\n",
       "      <th>Logistic Regression</th>\n",
       "      <td>0.828879</td>\n",
       "      <td>0.756522</td>\n",
       "      <td>0.454704</td>\n",
       "      <td>0.568009</td>\n",
       "      <td>0.841519</td>\n",
       "      <td>0.951890</td>\n",
       "      <td>0.893308</td>\n",
       "    </tr>\n",
       "    <tr>\n",
       "      <th>Naive Bayes</th>\n",
       "      <td>0.820259</td>\n",
       "      <td>0.757377</td>\n",
       "      <td>0.402439</td>\n",
       "      <td>0.525597</td>\n",
       "      <td>0.829777</td>\n",
       "      <td>0.957617</td>\n",
       "      <td>0.889125</td>\n",
       "    </tr>\n",
       "    <tr>\n",
       "      <th>Random Forest</th>\n",
       "      <td>0.788793</td>\n",
       "      <td>0.865217</td>\n",
       "      <td>0.173345</td>\n",
       "      <td>0.288824</td>\n",
       "      <td>0.784807</td>\n",
       "      <td>0.991123</td>\n",
       "      <td>0.875981</td>\n",
       "    </tr>\n",
       "  </tbody>\n",
       "</table>\n",
       "</div>"
      ],
      "text/plain": [
       "                     Accuracy  Precision (Fake)  Recall (Fake)  F1 (Fake)  \\\n",
       "LinearSVM            0.829741          0.731865       0.492160   0.588542   \n",
       "Logistic Regression  0.828879          0.756522       0.454704   0.568009   \n",
       "Naive Bayes          0.820259          0.757377       0.402439   0.525597   \n",
       "Random Forest        0.788793          0.865217       0.173345   0.288824   \n",
       "\n",
       "                     Precision (Real)  Recall (Real)  F1 (Real)  \n",
       "LinearSVM                    0.849276       0.940722   0.892663  \n",
       "Logistic Regression          0.841519       0.951890   0.893308  \n",
       "Naive Bayes                  0.829777       0.957617   0.889125  \n",
       "Random Forest                0.784807       0.991123   0.875981  "
      ]
     },
     "execution_count": 78,
     "metadata": {},
     "output_type": "execute_result"
    }
   ],
   "source": [
    "# Compare Results\n",
    "# i just want to create a summary table for better results\n",
    "\n",
    "summary = pd.DataFrame({\n",
    "    model: {\n",
    "        \"Accuracy\": data[\"accuracy\"],\n",
    "        \"Precision (Fake)\": data[\"report\"]['0']['precision'],\n",
    "        \"Recall (Fake)\": data[\"report\"]['0']['recall'],\n",
    "        \"F1 (Fake)\": data[\"report\"]['0']['f1-score'],\n",
    "        \"Precision (Real)\": data[\"report\"]['1']['precision'],\n",
    "        \"Recall (Real)\": data[\"report\"]['1']['recall'],\n",
    "        \"F1 (Real)\": data[\"report\"]['1']['f1-score']\n",
    "    }\n",
    "    for model, data in results.items()\n",
    "}).T\n",
    "\n",
    "summary = summary.sort_values(by=\"Accuracy\", ascending=False)\n",
    "summary\n"
   ]
  },
  {
   "cell_type": "code",
   "execution_count": null,
   "id": "0b494aa5-5121-4c74-a236-91d4fd683e3a",
   "metadata": {},
   "outputs": [],
   "source": []
  },
  {
   "cell_type": "code",
   "execution_count": 79,
   "id": "23d24eb3-33a6-4bca-a546-eda68c703229",
   "metadata": {},
   "outputs": [],
   "source": [
    "# Confusion Matrix Heatmap for Each Model\n",
    "\n",
    "import seaborn as sns\n",
    "import matplotlib.pyplot as plt\n",
    "from sklearn.metrics import confusion_matrix\n",
    "\n",
    "def plot_confusion(model_name, y_true, y_pred):\n",
    "    cm = confusion_matrix(y_true, y_pred)\n",
    "    plt.figure(figsize=(5, 4))\n",
    "    sns.heatmap(cm, annot=True, fmt='d', cmap='Blues', xticklabels=[\"Fake\", \"Real\"], yticklabels=[\"Fake\", \"Real\"])\n",
    "    plt.title(f\"Confusion Matrix: {model_name}\")\n",
    "    plt.xlabel(\"Predicted Label\")\n",
    "    plt.ylabel(\"True Label\")\n",
    "    plt.show()"
   ]
  },
  {
   "cell_type": "code",
   "execution_count": 71,
   "id": "f0ce568e-06dd-4ecd-ac7a-12092b569fb6",
   "metadata": {},
   "outputs": [
    {
     "data": {
      "image/png": "[encoded data removed]",
      "text/plain": [
       "<Figure size 500x400 with 2 Axes>"
      ]
     },
     "metadata": {},
     "output_type": "display_data"
    }
   ],
   "source": [
    "# Logistic Regression\n",
    "plot_confusion(\"Logistic Regression\", y_test, lr_preds)"
   ]
  },
  {
   "cell_type": "code",
   "execution_count": 72,
   "id": "b34f3d2d-4119-4c99-9576-a4d09bc7cfb1",
   "metadata": {},
   "outputs": [
    {
     "data": {
      "image/png": "[encoded data removed]",
      "text/plain": [
       "<Figure size 500x400 with 2 Axes>"
      ]
     },
     "metadata": {},
     "output_type": "display_data"
    }
   ],
   "source": [
    "# Naive Bayes\n",
    "plot_confusion(\"Naive Bayes\", y_test, nb_preds)"
   ]
  },
  {
   "cell_type": "code",
   "execution_count": 73,
   "id": "cd0d6609-d711-4ad7-af71-03d42b4db1bf",
   "metadata": {},
   "outputs": [
    {
     "data": {
      "image/png": "[encoded data removed]",
      "text/plain": [
       "<Figure size 500x400 with 2 Axes>"
      ]
     },
     "metadata": {},
     "output_type": "display_data"
    }
   ],
   "source": [
    "# Random Forest\n",
    "plot_confusion(\"Random Forest\", y_test, rf_preds)"
   ]
  },
  {
   "cell_type": "code",
   "execution_count": 75,
   "id": "08d9f875-9caf-43d9-a839-cc964c246fec",
   "metadata": {},
   "outputs": [
    {
     "data": {
      "image/png": "[encoded data removed]",
      "text/plain": [
       "<Figure size 500x400 with 2 Axes>"
      ]
     },
     "metadata": {},
     "output_type": "display_data"
    }
   ],
   "source": [
    "# Linear SVM\n",
    "plot_confusion(\"Linear SVM\", y_test, svm_preds)"
   ]
  },
  {
   "cell_type": "code",
   "execution_count": null,
   "id": "84c102ca-a45c-4796-8bae-7c6503bc12e6",
   "metadata": {},
   "outputs": [],
   "source": []
  },
  {
   "cell_type": "code",
   "execution_count": 80,
   "id": "4dfea00f-285f-46df-99c5-50b12a8b0acd",
   "metadata": {},
   "outputs": [],
   "source": [
    "# Observation:\n",
    "\n",
    "# Random Forest has high precision but very low recall.It predicts 'Fake' only when it's very confident, missing many actual fake cases.\n",
    "# LinearSVM offers a better balance between precision and recall for Fake news.\n",
    "# Naive Bayes performs poorly on recall for Fake news."
   ]
  },
  {
   "cell_type": "code",
   "execution_count": 81,
   "id": "4290c2da-9bf0-4e29-9246-a5f71cddbf9f",
   "metadata": {},
   "outputs": [],
   "source": [
    "# Conclusion: \n",
    "# If detecting fake news is the priority, LinearSVM is slightly better due to better recall and balanced F1 score. \n",
    "# Random Forest is not reliable here."
   ]
  },
  {
   "cell_type": "code",
   "execution_count": 83,
   "id": "41eb855f-c77c-431a-b81c-d6014a1d75b9",
   "metadata": {},
   "outputs": [
    {
     "data": {
      "text/plain": [
       "' All models perform very well on Real news detection.\\nRandom Forest and Naive Bayes have highest recall, meaning they rarely miss a real news article.\\nLogistic Regression has the best overall F1 score here. '"
      ]
     },
     "execution_count": 83,
     "metadata": {},
     "output_type": "execute_result"
    }
   ],
   "source": [
    "''' All models perform very well on Real news detection.\n",
    "Random Forest and Naive Bayes have highest recall, meaning they rarely miss a real news article.\n",
    "Logistic Regression has the best overall F1 score here. '''\n"
   ]
  },
  {
   "cell_type": "code",
   "execution_count": null,
   "id": "5927fc73-de61-4650-bfdd-dcda2d9e51a8",
   "metadata": {},
   "outputs": [],
   "source": []
  }
 ],
 "metadata": {
  "kernelspec": {
   "display_name": "Python 3 (ipykernel)",
   "language": "python",
   "name": "python3"
  },
  "language_info": {
   "codemirror_mode": {
    "name": "ipython",
    "version": 3
   },
   "file_extension": ".py",
   "mimetype": "text/x-python",
   "name": "python",
   "nbconvert_exporter": "python",
   "pygments_lexer": "ipython3",
   "version": "3.13.4"
  }
 },
 "nbformat": 4,
 "nbformat_minor": 5
}
